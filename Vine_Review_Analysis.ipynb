{
  "nbformat": 4,
  "nbformat_minor": 0,
  "metadata": {
    "colab": {
      "name": "Vine_Review_Analysis.ipynb",
      "provenance": [],
      "collapsed_sections": []
    },
    "kernelspec": {
      "name": "python3",
      "display_name": "Python 3"
    },
    "language_info": {
      "name": "python"
    }
  },
  "cells": [
    {
      "cell_type": "code",
      "metadata": {
        "colab": {
          "base_uri": "https://localhost:8080/"
        },
        "id": "4MyNnmxIoFVC",
        "outputId": "ad4b8312-2d13-4079-86c0-bdb5031a35fd"
      },
      "source": [
        "import os\n",
        "# Find the latest version of spark 2.0  from http://www-us.apache.org/dist/spark/ and enter as the spark version\n",
        "# For example:\n",
        "# spark_version = 'spark-3.0.2'\n",
        "spark_version = 'spark-3.0.2'\n",
        "os.environ['SPARK_VERSION']=spark_version\n",
        "\n",
        "# Install Spark and Java\n",
        "!apt-get update\n",
        "!apt-get install openjdk-11-jdk-headless -qq > /dev/null\n",
        "!wget -q http://www-us.apache.org/dist/spark/$SPARK_VERSION/$SPARK_VERSION-bin-hadoop2.7.tgz\n",
        "!tar xf $SPARK_VERSION-bin-hadoop2.7.tgz\n",
        "!pip install -q findspark\n",
        "\n",
        "# Set Environment Variables\n",
        "import os\n",
        "os.environ[\"JAVA_HOME\"] = \"/usr/lib/jvm/java-11-openjdk-amd64\"\n",
        "os.environ[\"SPARK_HOME\"] = f\"/content/{spark_version}-bin-hadoop2.7\"\n",
        "\n",
        "# Start a SparkSession\n",
        "import findspark\n",
        "findspark.init()"
      ],
      "execution_count": 1,
      "outputs": [
        {
          "output_type": "stream",
          "text": [
            "Get:1 http://security.ubuntu.com/ubuntu bionic-security InRelease [88.7 kB]\n",
            "Get:2 https://cloud.r-project.org/bin/linux/ubuntu bionic-cran40/ InRelease [3,626 B]\n",
            "Hit:3 http://archive.ubuntu.com/ubuntu bionic InRelease\n",
            "Get:4 http://ppa.launchpad.net/c2d4u.team/c2d4u4.0+/ubuntu bionic InRelease [15.9 kB]\n",
            "Ign:5 https://developer.download.nvidia.com/compute/cuda/repos/ubuntu1804/x86_64  InRelease\n",
            "Ign:6 https://developer.download.nvidia.com/compute/machine-learning/repos/ubuntu1804/x86_64  InRelease\n",
            "Hit:7 https://developer.download.nvidia.com/compute/cuda/repos/ubuntu1804/x86_64  Release\n",
            "Get:8 http://archive.ubuntu.com/ubuntu bionic-updates InRelease [88.7 kB]\n",
            "Hit:9 https://developer.download.nvidia.com/compute/machine-learning/repos/ubuntu1804/x86_64  Release\n",
            "Hit:10 http://ppa.launchpad.net/cran/libgit2/ubuntu bionic InRelease\n",
            "Get:11 http://archive.ubuntu.com/ubuntu bionic-backports InRelease [74.6 kB]\n",
            "Hit:12 http://ppa.launchpad.net/deadsnakes/ppa/ubuntu bionic InRelease\n",
            "Get:13 http://security.ubuntu.com/ubuntu bionic-security/restricted amd64 Packages [348 kB]\n",
            "Get:14 http://ppa.launchpad.net/graphics-drivers/ppa/ubuntu bionic InRelease [21.3 kB]\n",
            "Get:15 http://security.ubuntu.com/ubuntu bionic-security/main amd64 Packages [2,045 kB]\n",
            "Get:16 http://security.ubuntu.com/ubuntu bionic-security/universe amd64 Packages [1,402 kB]\n",
            "Get:18 http://ppa.launchpad.net/c2d4u.team/c2d4u4.0+/ubuntu bionic/main Sources [1,748 kB]\n",
            "Get:20 http://archive.ubuntu.com/ubuntu bionic-updates/universe amd64 Packages [2,170 kB]\n",
            "Get:21 http://ppa.launchpad.net/c2d4u.team/c2d4u4.0+/ubuntu bionic/main amd64 Packages [895 kB]\n",
            "Get:22 http://archive.ubuntu.com/ubuntu bionic-updates/restricted amd64 Packages [378 kB]\n",
            "Get:23 http://archive.ubuntu.com/ubuntu bionic-updates/main amd64 Packages [2,475 kB]\n",
            "Get:24 http://ppa.launchpad.net/graphics-drivers/ppa/ubuntu bionic/main amd64 Packages [49.4 kB]\n",
            "Fetched 11.8 MB in 4s (3,163 kB/s)\n",
            "Reading package lists... Done\n"
          ],
          "name": "stdout"
        }
      ]
    },
    {
      "cell_type": "code",
      "metadata": {
        "colab": {
          "base_uri": "https://localhost:8080/"
        },
        "id": "Mq3n9psioXT2",
        "outputId": "b3fcdf74-26f4-4e62-fa30-5784826b5bc8"
      },
      "source": [
        "# Download the Postgres driver that will allow Spark to interact with Postgres.\n",
        "!wget https://jdbc.postgresql.org/download/postgresql-42.2.16.jar"
      ],
      "execution_count": 2,
      "outputs": [
        {
          "output_type": "stream",
          "text": [
            "--2021-03-28 20:58:46--  https://jdbc.postgresql.org/download/postgresql-42.2.16.jar\n",
            "Resolving jdbc.postgresql.org (jdbc.postgresql.org)... 72.32.157.228, 2001:4800:3e1:1::228\n",
            "Connecting to jdbc.postgresql.org (jdbc.postgresql.org)|72.32.157.228|:443... connected.\n",
            "HTTP request sent, awaiting response... 200 OK\n",
            "Length: 1002883 (979K) [application/java-archive]\n",
            "Saving to: ‘postgresql-42.2.16.jar’\n",
            "\n",
            "postgresql-42.2.16. 100%[===================>] 979.38K  --.-KB/s    in 0.1s    \n",
            "\n",
            "2021-03-28 20:58:47 (6.53 MB/s) - ‘postgresql-42.2.16.jar’ saved [1002883/1002883]\n",
            "\n"
          ],
          "name": "stdout"
        }
      ]
    },
    {
      "cell_type": "code",
      "metadata": {
        "id": "RdCS_8eEoa0c"
      },
      "source": [
        "from pyspark.sql import SparkSession\n",
        "spark = SparkSession.builder.appName(\"BigData-Challenge\").config(\"spark.driver.extraClassPath\",\"/content/postgresql-42.2.16.jar\").getOrCreate()"
      ],
      "execution_count": 3,
      "outputs": []
    },
    {
      "cell_type": "code",
      "metadata": {
        "colab": {
          "base_uri": "https://localhost:8080/"
        },
        "id": "ZOAWlJ0Loe5d",
        "outputId": "8d1a8ffb-1126-45ea-b472-38960fefbdcc"
      },
      "source": [
        "from pyspark import SparkFiles\n",
        "url = \"https://s3.amazonaws.com/amazon-reviews-pds/tsv/amazon_reviews_us_Pet_Products_v1_00.tsv.gz\"\n",
        "spark.sparkContext.addFile(url)\n",
        "df = spark.read.option(\"encoding\", \"UTF-8\").csv(SparkFiles.get(\"\"), sep=\"\\t\", header=True, inferSchema=True)\n",
        "df.show()"
      ],
      "execution_count": 4,
      "outputs": [
        {
          "output_type": "stream",
          "text": [
            "+-----------+-----------+--------------+----------+--------------+--------------------+----------------+-----------+-------------+-----------+----+-----------------+--------------------+--------------------+-----------+\n",
            "|marketplace|customer_id|     review_id|product_id|product_parent|       product_title|product_category|star_rating|helpful_votes|total_votes|vine|verified_purchase|     review_headline|         review_body|review_date|\n",
            "+-----------+-----------+--------------+----------+--------------+--------------------+----------------+-----------+-------------+-----------+----+-----------------+--------------------+--------------------+-----------+\n",
            "|         US|   28794885| REAKC26P07MDN|B00Q0K9604|     510387886|(8-Pack) EZwhelp ...|    Pet Products|          5|            0|          0|   N|                Y|A great purchase ...|Best belly bands ...| 2015-08-31|\n",
            "|         US|   11488901|R3NU7OMZ4HQIEG|B00MBW5O9W|     912374672|Warren Eckstein's...|    Pet Products|          2|            0|          1|   N|                Y|My dogs love Hugs...|My dogs love Hugs...| 2015-08-31|\n",
            "|         US|   43214993|R14QJW3XF8QO1P|B0084OHUIO|     902215727|Tyson's True Chew...|    Pet Products|          5|            0|          0|   N|                Y|I have been purch...|I have been purch...| 2015-08-31|\n",
            "|         US|   12835065|R2HB7AX0394ZGY|B001GS71K2|     568880110|Soft Side Pet Cra...|    Pet Products|          5|            0|          0|   N|                Y|it is easy to ope...|It is extremely w...| 2015-08-31|\n",
            "|         US|   26334022| RGKMPDQGSAHR3|B004ABH1LG|     692846826|EliteField 3-Door...|    Pet Products|          5|            0|          0|   N|                Y|           Dog crate|Worked really wel...| 2015-08-31|\n",
            "|         US|   22283621|R1DJCVPQGCV66E|B00AX0LFM4|     590674141|Carlson 68-Inch W...|    Pet Products|          5|            0|          0|   N|                Y|          Five Stars|I love my gates! ...| 2015-08-31|\n",
            "|         US|   14469895|R3V52EAWLPBFQG|B00DQFZGZ0|     688538603|Dog Seat Cover Wi...|    Pet Products|          3|            0|          0|   N|                Y|Seat belt tugs on...|Didn't quite work...| 2015-08-31|\n",
            "|         US|   50896354|R3DKO8J1J28QBI|B00DIRF9US|     742358789|The Bird Catcher ...|    Pet Products|          2|            0|          0|   N|                Y|Great Pole, but S...|I had the origina...| 2015-08-31|\n",
            "|         US|   18440567| R764DBXGRNECG|B00JRCBFUG|     869798483|Cat Bed - Purrfec...|    Pet Products|          5|            1|          1|   N|                N|     My cat loves it|The pad is very s...| 2015-08-31|\n",
            "|         US|   50502362| RW1853GAT0Z9F|B000L3XYZ4|     501118658|PetSafe Drinkwell...|    Pet Products|          5|            0|          0|   N|                Y|          Five Stars|My cat drinks mor...| 2015-08-31|\n",
            "|         US|   33930128|R33GITXNUF1AD4|B00BOEXWFG|     454737777|Contech ZenDog Ca...|    Pet Products|          2|            0|          0|   N|                Y|Also had to pull ...|Much smaller than...| 2015-08-31|\n",
            "|         US|   43534290|R1H7AVM81TAYRV|B001HBBQKY|     420905252|Wellness Crunchy ...|    Pet Products|          1|            2|          2|   N|                Y|DO NOT PURCHASE -...|I used to love th...| 2015-08-31|\n",
            "|         US|   45555864|R2ZOYAQZNNZZWV|B007O1FHB0|     302588963|Rx Vitamins Essen...|    Pet Products|          5|            0|          0|   N|                Y|          Five Stars|Recommended by my...| 2015-08-31|\n",
            "|         US|   11147406|R2FN1H3CGW6J8H|B001P3NU30|     525778264|Virbac C.E.T. Enz...|    Pet Products|          1|            0|          0|   N|                Y|Received wrong pr...|Yes I  ordered fo...| 2015-08-31|\n",
            "|         US|    6495678| RJB41Q575XNG4|B00ZP6HS6S|     414117299|Kitty Shack - 2 i...|    Pet Products|          5|            0|          3|   N|                Y|          Five Stars|      It falls apart| 2015-08-31|\n",
            "|         US|    2019416|R28W8BM1587CPF|B00IP05CUA|     833937853|Wellness Kittles ...|    Pet Products|          5|            0|          0|   N|                Y|kitty is ravenous...|My cat really lov...| 2015-08-31|\n",
            "|         US|   40459386|R1II0M01NIG293|B001U8Y598|      85343577|OmniPet Anti-Ant ...|    Pet Products|          2|            0|          0|   N|                N|Maybe other speci...|This bowl is not ...| 2015-08-31|\n",
            "|         US|   23126800| RMB8N0DBRH34O|B011AY4JWO|     499241195|K9KONNECTION [New...|    Pet Products|          5|            1|          1|   N|                Y|This works, dog n...|I have a small do...| 2015-08-31|\n",
            "|         US|   30238476|R24WB6A6WVIPU6|B00DDSHE5A|     409532388|SUNSEED COMPANY 3...|    Pet Products|          5|            0|          0|   N|                Y|    Yummy for Bunny!|Bunny loves it! E...| 2015-08-31|\n",
            "|         US|   35113999| ROCJSH0P9YSRW|B00PJW5OR8|     259271919|CXB1983(TM)Cute P...|    Pet Products|          5|            0|          0|   N|                Y|excellent price, ...|Petfect,,quality ...| 2015-08-31|\n",
            "+-----------+-----------+--------------+----------+--------------+--------------------+----------------+-----------+-------------+-----------+----+-----------------+--------------------+--------------------+-----------+\n",
            "only showing top 20 rows\n",
            "\n"
          ],
          "name": "stdout"
        }
      ]
    },
    {
      "cell_type": "code",
      "metadata": {
        "id": "H0TDkHMZpLBE"
      },
      "source": [
        "from pyspark.sql.functions import to_date\n",
        "# Read in the Review dataset as a DataFrame\n",
        "vine_reviews_clean_df = df.dropna()"
      ],
      "execution_count": 5,
      "outputs": []
    },
    {
      "cell_type": "code",
      "metadata": {
        "colab": {
          "base_uri": "https://localhost:8080/"
        },
        "id": "MvbQND8KpQEs",
        "outputId": "b3adc9c7-4d70-44be-8ee7-29db88dc6b8e"
      },
      "source": [
        "# Create the vine_table DataFrame\n",
        "vine_df = vine_reviews_clean_df.select([\"review_id\",\"star_rating\",\"helpful_votes\",\"total_votes\",\"vine\",\"verified_purchase\"])\n",
        "vine_df.show()"
      ],
      "execution_count": 6,
      "outputs": [
        {
          "output_type": "stream",
          "text": [
            "+--------------+-----------+-------------+-----------+----+-----------------+\n",
            "|     review_id|star_rating|helpful_votes|total_votes|vine|verified_purchase|\n",
            "+--------------+-----------+-------------+-----------+----+-----------------+\n",
            "| REAKC26P07MDN|          5|            0|          0|   N|                Y|\n",
            "|R3NU7OMZ4HQIEG|          2|            0|          1|   N|                Y|\n",
            "|R14QJW3XF8QO1P|          5|            0|          0|   N|                Y|\n",
            "|R2HB7AX0394ZGY|          5|            0|          0|   N|                Y|\n",
            "| RGKMPDQGSAHR3|          5|            0|          0|   N|                Y|\n",
            "|R1DJCVPQGCV66E|          5|            0|          0|   N|                Y|\n",
            "|R3V52EAWLPBFQG|          3|            0|          0|   N|                Y|\n",
            "|R3DKO8J1J28QBI|          2|            0|          0|   N|                Y|\n",
            "| R764DBXGRNECG|          5|            1|          1|   N|                N|\n",
            "| RW1853GAT0Z9F|          5|            0|          0|   N|                Y|\n",
            "|R33GITXNUF1AD4|          2|            0|          0|   N|                Y|\n",
            "|R1H7AVM81TAYRV|          1|            2|          2|   N|                Y|\n",
            "|R2ZOYAQZNNZZWV|          5|            0|          0|   N|                Y|\n",
            "|R2FN1H3CGW6J8H|          1|            0|          0|   N|                Y|\n",
            "| RJB41Q575XNG4|          5|            0|          3|   N|                Y|\n",
            "|R28W8BM1587CPF|          5|            0|          0|   N|                Y|\n",
            "|R1II0M01NIG293|          2|            0|          0|   N|                N|\n",
            "| RMB8N0DBRH34O|          5|            1|          1|   N|                Y|\n",
            "|R24WB6A6WVIPU6|          5|            0|          0|   N|                Y|\n",
            "| ROCJSH0P9YSRW|          5|            0|          0|   N|                Y|\n",
            "+--------------+-----------+-------------+-----------+----+-----------------+\n",
            "only showing top 20 rows\n",
            "\n"
          ],
          "name": "stdout"
        }
      ]
    },
    {
      "cell_type": "markdown",
      "metadata": {
        "id": "N4aIaXvnpYGj"
      },
      "source": [
        "## **Filter Data**"
      ]
    },
    {
      "cell_type": "code",
      "metadata": {
        "colab": {
          "base_uri": "https://localhost:8080/"
        },
        "id": "eIkBNNIwpbCX",
        "outputId": "55ef0d3f-7230-4b65-ab8f-746b0480c9b6"
      },
      "source": [
        "# Filtered for more than 20 total votes\n",
        "vine_filtered_votes_df = vine_df.filter(\"total_votes>=20\")\n",
        "vine_filtered_votes_df.show()"
      ],
      "execution_count": 7,
      "outputs": [
        {
          "output_type": "stream",
          "text": [
            "+--------------+-----------+-------------+-----------+----+-----------------+\n",
            "|     review_id|star_rating|helpful_votes|total_votes|vine|verified_purchase|\n",
            "+--------------+-----------+-------------+-----------+----+-----------------+\n",
            "|R21KC552Y6HL8X|          1|           27|         31|   N|                Y|\n",
            "| RX9WC9FTIR1XR|          5|           25|         25|   N|                Y|\n",
            "| RGDCOU1KBHMNG|          3|           29|         31|   N|                Y|\n",
            "| RVTYWID2TPMMY|          2|           35|         42|   N|                Y|\n",
            "|R2CMPZ5VESGRLY|          4|           27|         28|   N|                Y|\n",
            "|R3VQPJZ54B55BA|          5|           62|         64|   N|                N|\n",
            "|R24QM6D7FEDZ5M|          2|           36|         43|   N|                Y|\n",
            "|R3A1VQ3SQDXEJ3|          5|           20|         20|   N|                Y|\n",
            "|  R39GSNW76GYF|          1|           20|         23|   N|                Y|\n",
            "| RPJLR6MFDPXXE|          5|           35|         36|   N|                Y|\n",
            "|R34X0ZGVB3YGYO|          5|           47|         47|   N|                Y|\n",
            "|R2C9O1BOV14Q0Z|          1|           62|         79|   N|                Y|\n",
            "| RM6ZH5J3XDNHK|          5|           79|         87|   N|                Y|\n",
            "|R2E363K75EMW4K|          5|           66|         69|   N|                Y|\n",
            "|R2VJII8VKSJHDF|          1|           24|         29|   N|                N|\n",
            "|R2U35Y2P27M13E|          1|           43|         45|   N|                Y|\n",
            "| RLMZOQL11VHBX|          5|           23|         24|   N|                Y|\n",
            "|R3C6CQQRRA8SYP|          5|           52|         58|   N|                Y|\n",
            "|R3T7YOX0AEDZL3|          1|           45|         47|   N|                N|\n",
            "|R176V3AYS3R4HG|          5|           26|         27|   N|                N|\n",
            "+--------------+-----------+-------------+-----------+----+-----------------+\n",
            "only showing top 20 rows\n",
            "\n"
          ],
          "name": "stdout"
        }
      ]
    },
    {
      "cell_type": "code",
      "metadata": {
        "colab": {
          "base_uri": "https://localhost:8080/"
        },
        "id": "qrvzDbhzp6BH",
        "outputId": "384a59ca-b678-41f1-c655-5be6ce3e5fa8"
      },
      "source": [
        "# Filtered for more than 20 total votes, and more than 50% helpful\n",
        "vine_helpful_by_total_df = vine_filtered_votes_df.filter(\"(helpful_votes/total_votes)>=0.5\")\n",
        "vine_helpful_by_total_df.show()"
      ],
      "execution_count": 8,
      "outputs": [
        {
          "output_type": "stream",
          "text": [
            "+--------------+-----------+-------------+-----------+----+-----------------+\n",
            "|     review_id|star_rating|helpful_votes|total_votes|vine|verified_purchase|\n",
            "+--------------+-----------+-------------+-----------+----+-----------------+\n",
            "|R21KC552Y6HL8X|          1|           27|         31|   N|                Y|\n",
            "| RX9WC9FTIR1XR|          5|           25|         25|   N|                Y|\n",
            "| RGDCOU1KBHMNG|          3|           29|         31|   N|                Y|\n",
            "| RVTYWID2TPMMY|          2|           35|         42|   N|                Y|\n",
            "|R2CMPZ5VESGRLY|          4|           27|         28|   N|                Y|\n",
            "|R3VQPJZ54B55BA|          5|           62|         64|   N|                N|\n",
            "|R24QM6D7FEDZ5M|          2|           36|         43|   N|                Y|\n",
            "|R3A1VQ3SQDXEJ3|          5|           20|         20|   N|                Y|\n",
            "|  R39GSNW76GYF|          1|           20|         23|   N|                Y|\n",
            "| RPJLR6MFDPXXE|          5|           35|         36|   N|                Y|\n",
            "|R34X0ZGVB3YGYO|          5|           47|         47|   N|                Y|\n",
            "|R2C9O1BOV14Q0Z|          1|           62|         79|   N|                Y|\n",
            "| RM6ZH5J3XDNHK|          5|           79|         87|   N|                Y|\n",
            "|R2E363K75EMW4K|          5|           66|         69|   N|                Y|\n",
            "|R2VJII8VKSJHDF|          1|           24|         29|   N|                N|\n",
            "|R2U35Y2P27M13E|          1|           43|         45|   N|                Y|\n",
            "| RLMZOQL11VHBX|          5|           23|         24|   N|                Y|\n",
            "|R3C6CQQRRA8SYP|          5|           52|         58|   N|                Y|\n",
            "|R3T7YOX0AEDZL3|          1|           45|         47|   N|                N|\n",
            "|R176V3AYS3R4HG|          5|           26|         27|   N|                N|\n",
            "+--------------+-----------+-------------+-----------+----+-----------------+\n",
            "only showing top 20 rows\n",
            "\n"
          ],
          "name": "stdout"
        }
      ]
    },
    {
      "cell_type": "code",
      "metadata": {
        "colab": {
          "base_uri": "https://localhost:8080/"
        },
        "id": "16JiHQ9RqY42",
        "outputId": "3d23bb65-507d-4a9a-addb-8124c1bc3536"
      },
      "source": [
        "# Filtered for paid reviews, more than 50% helpful\n",
        "vine_paid_helpful_df = vine_helpful_by_total_df.filter(\"vine == 'Y'\")\n",
        "vine_paid_helpful_df.show()"
      ],
      "execution_count": 9,
      "outputs": [
        {
          "output_type": "stream",
          "text": [
            "+--------------+-----------+-------------+-----------+----+-----------------+\n",
            "|     review_id|star_rating|helpful_votes|total_votes|vine|verified_purchase|\n",
            "+--------------+-----------+-------------+-----------+----+-----------------+\n",
            "|R3A71VR1JZD8WF|          2|           27|         30|   Y|                N|\n",
            "|R16OMUJIGI18JZ|          5|           72|         72|   Y|                N|\n",
            "|R3TS8ZP2FHQ9XR|          5|           39|         42|   Y|                N|\n",
            "|R2MHP919VZN7DI|          5|           29|         30|   Y|                N|\n",
            "| RD2BCTVS59A5L|          2|           20|         20|   Y|                N|\n",
            "|R1JUJLXQ2CMWKF|          4|           25|         26|   Y|                N|\n",
            "|R2T7YE0IFI6N9L|          3|           24|         25|   Y|                N|\n",
            "|R25FI3J7WWOYXM|          3|           55|         58|   Y|                N|\n",
            "|R3P3U4EOWIUD50|          3|           27|         36|   Y|                N|\n",
            "|R3C7MKX7MO6XUC|          5|          216|        219|   Y|                N|\n",
            "|R1DFDDK1ZWKN3D|          2|           61|         65|   Y|                N|\n",
            "|R38G7BRBA2LGGV|          3|           47|         54|   Y|                N|\n",
            "|R2XQXWNEBSB9WO|          4|           52|         56|   Y|                N|\n",
            "|R1UFK241B2KN48|          4|          375|        378|   Y|                N|\n",
            "|R3H9CGK58BVHI5|          4|           42|         46|   Y|                N|\n",
            "|R3FKBT77ZTUPLQ|          5|           15|         20|   Y|                N|\n",
            "|R3NSXBUR3O1CE8|          5|           21|         22|   Y|                N|\n",
            "|R13JI50KH7BTBU|          4|           29|         30|   Y|                N|\n",
            "|R2LWQUQ6KB5ZN5|          4|           29|         36|   Y|                Y|\n",
            "|R1JORBU2J7HG3H|          5|           22|         25|   Y|                N|\n",
            "+--------------+-----------+-------------+-----------+----+-----------------+\n",
            "only showing top 20 rows\n",
            "\n"
          ],
          "name": "stdout"
        }
      ]
    },
    {
      "cell_type": "code",
      "metadata": {
        "colab": {
          "base_uri": "https://localhost:8080/"
        },
        "id": "NUxUpAAAqfeu",
        "outputId": "3dee717a-dfb0-47df-a7bc-19fc8437c678"
      },
      "source": [
        "# Filtered for unpaid reviews, more than 50% helpful\n",
        "vine_unpaid_helpful_df = vine_helpful_by_total_df.filter(\"vine == 'N'\")\n",
        "vine_unpaid_helpful_df.show()"
      ],
      "execution_count": 10,
      "outputs": [
        {
          "output_type": "stream",
          "text": [
            "+--------------+-----------+-------------+-----------+----+-----------------+\n",
            "|     review_id|star_rating|helpful_votes|total_votes|vine|verified_purchase|\n",
            "+--------------+-----------+-------------+-----------+----+-----------------+\n",
            "|R21KC552Y6HL8X|          1|           27|         31|   N|                Y|\n",
            "| RX9WC9FTIR1XR|          5|           25|         25|   N|                Y|\n",
            "| RGDCOU1KBHMNG|          3|           29|         31|   N|                Y|\n",
            "| RVTYWID2TPMMY|          2|           35|         42|   N|                Y|\n",
            "|R2CMPZ5VESGRLY|          4|           27|         28|   N|                Y|\n",
            "|R3VQPJZ54B55BA|          5|           62|         64|   N|                N|\n",
            "|R24QM6D7FEDZ5M|          2|           36|         43|   N|                Y|\n",
            "|R3A1VQ3SQDXEJ3|          5|           20|         20|   N|                Y|\n",
            "|  R39GSNW76GYF|          1|           20|         23|   N|                Y|\n",
            "| RPJLR6MFDPXXE|          5|           35|         36|   N|                Y|\n",
            "|R34X0ZGVB3YGYO|          5|           47|         47|   N|                Y|\n",
            "|R2C9O1BOV14Q0Z|          1|           62|         79|   N|                Y|\n",
            "| RM6ZH5J3XDNHK|          5|           79|         87|   N|                Y|\n",
            "|R2E363K75EMW4K|          5|           66|         69|   N|                Y|\n",
            "|R2VJII8VKSJHDF|          1|           24|         29|   N|                N|\n",
            "|R2U35Y2P27M13E|          1|           43|         45|   N|                Y|\n",
            "| RLMZOQL11VHBX|          5|           23|         24|   N|                Y|\n",
            "|R3C6CQQRRA8SYP|          5|           52|         58|   N|                Y|\n",
            "|R3T7YOX0AEDZL3|          1|           45|         47|   N|                N|\n",
            "|R176V3AYS3R4HG|          5|           26|         27|   N|                N|\n",
            "+--------------+-----------+-------------+-----------+----+-----------------+\n",
            "only showing top 20 rows\n",
            "\n"
          ],
          "name": "stdout"
        }
      ]
    },
    {
      "cell_type": "markdown",
      "metadata": {
        "id": "CiFpCAQfq-jA"
      },
      "source": [
        "### **Determing Totals**"
      ]
    },
    {
      "cell_type": "code",
      "metadata": {
        "colab": {
          "base_uri": "https://localhost:8080/"
        },
        "id": "DJQSv21rrCXv",
        "outputId": "fb845de9-992f-46fa-c216-97b55eed613a"
      },
      "source": [
        "# Total number of reviews that were helpful\n",
        "total_helpful_reviews = vine_helpful_by_total_df.count()\n",
        "total_helpful_reviews"
      ],
      "execution_count": 17,
      "outputs": [
        {
          "output_type": "execute_result",
          "data": {
            "text/plain": [
              "37993"
            ]
          },
          "metadata": {
            "tags": []
          },
          "execution_count": 17
        }
      ]
    },
    {
      "cell_type": "code",
      "metadata": {
        "colab": {
          "base_uri": "https://localhost:8080/"
        },
        "id": "gaayv4z71gFY",
        "outputId": "d8907c56-14e7-4bd1-93e3-b63293414440"
      },
      "source": [
        "# Total number of vine reviews\n",
        "vine_paid_helpful = vine_paid_helpful_df.count()\n",
        "vine_paid_helpful"
      ],
      "execution_count": 29,
      "outputs": [
        {
          "output_type": "execute_result",
          "data": {
            "text/plain": [
              "170"
            ]
          },
          "metadata": {
            "tags": []
          },
          "execution_count": 29
        }
      ]
    },
    {
      "cell_type": "code",
      "metadata": {
        "colab": {
          "base_uri": "https://localhost:8080/"
        },
        "id": "QdxsO70R2fRL",
        "outputId": "b1dd11d4-80eb-4b9d-b2a3-600cae7d5d1e"
      },
      "source": [
        "# Total number of Non-Vine reviews\n",
        "vine_unpaid_helpful = vine_unpaid_helpful_df.count()\n",
        "vine_unpaid_helpful"
      ],
      "execution_count": 30,
      "outputs": [
        {
          "output_type": "execute_result",
          "data": {
            "text/plain": [
              "37823"
            ]
          },
          "metadata": {
            "tags": []
          },
          "execution_count": 30
        }
      ]
    },
    {
      "cell_type": "code",
      "metadata": {
        "colab": {
          "base_uri": "https://localhost:8080/"
        },
        "id": "fLa1tGNQrv88",
        "outputId": "44a668cc-e150-4130-9a0e-2e3505f34b2f"
      },
      "source": [
        "# Number of 5 Star Reviews from those helpful\n",
        "five_star_reviews_df = vine_helpful_by_total_df.filter(\"star_rating == 5\")\n",
        "five_star_reviews = five_star_reviews_df.count()\n",
        "five_star_reviews"
      ],
      "execution_count": 18,
      "outputs": [
        {
          "output_type": "execute_result",
          "data": {
            "text/plain": [
              "20670"
            ]
          },
          "metadata": {
            "tags": []
          },
          "execution_count": 18
        }
      ]
    },
    {
      "cell_type": "code",
      "metadata": {
        "colab": {
          "base_uri": "https://localhost:8080/"
        },
        "id": "mcKUHmBJuOXr",
        "outputId": "8a398686-e1a3-47ef-cbfd-c0bc4991e0b0"
      },
      "source": [
        "# Number of 5 Star Reviews from those helpful that were paid for. \n",
        "five_star_reviews_paid_df = vine_paid_helpful_df.filter(\"star_rating == 5\")\n",
        "five_star_reviews_paid = five_star_reviews_paid_df.count()\n",
        "five_star_reviews_paid"
      ],
      "execution_count": 19,
      "outputs": [
        {
          "output_type": "execute_result",
          "data": {
            "text/plain": [
              "65"
            ]
          },
          "metadata": {
            "tags": []
          },
          "execution_count": 19
        }
      ]
    },
    {
      "cell_type": "code",
      "metadata": {
        "colab": {
          "base_uri": "https://localhost:8080/"
        },
        "id": "dIHlTAsbvXSY",
        "outputId": "fcb1422f-8e90-4631-c3cd-a0943918c57a"
      },
      "source": [
        "# Number of 5 Star Reviews from those helpful that were not paid for. \n",
        "five_star_reviews_unpaid_df = vine_unpaid_helpful_df.filter(\"star_rating == 5\")\n",
        "five_star_reviews_unpaid = five_star_reviews_unpaid_df.count()\n",
        "five_star_reviews_unpaid"
      ],
      "execution_count": 21,
      "outputs": [
        {
          "output_type": "execute_result",
          "data": {
            "text/plain": [
              "20605"
            ]
          },
          "metadata": {
            "tags": []
          },
          "execution_count": 21
        }
      ]
    },
    {
      "cell_type": "code",
      "metadata": {
        "colab": {
          "base_uri": "https://localhost:8080/"
        },
        "id": "-lpTNX01vvhO",
        "outputId": "514da1d9-89b4-43d9-8f09-dc03c02b65d0"
      },
      "source": [
        "# Percentage 5 Star Reviews from those helpful that were paid for. \n",
        "percentage_five_star_reviews_paid = (five_star_reviews_paid/five_star_reviews)*100\n",
        "round(percentage_five_star_reviews_paid, 3)"
      ],
      "execution_count": 27,
      "outputs": [
        {
          "output_type": "execute_result",
          "data": {
            "text/plain": [
              "0.314"
            ]
          },
          "metadata": {
            "tags": []
          },
          "execution_count": 27
        }
      ]
    },
    {
      "cell_type": "code",
      "metadata": {
        "colab": {
          "base_uri": "https://localhost:8080/"
        },
        "id": "4c0x2tikwZsU",
        "outputId": "e1d923c9-80b0-40c9-b38e-4dbdf453dcf6"
      },
      "source": [
        "# Percentage 5 Star Reviews from those helpful that were not paid for. \n",
        "percentage_five_star_reviews_unpaid = (five_star_reviews_unpaid/five_star_reviews)*100\n",
        "round(percentage_five_star_reviews_unpaid, 3)"
      ],
      "execution_count": 28,
      "outputs": [
        {
          "output_type": "execute_result",
          "data": {
            "text/plain": [
              "99.686"
            ]
          },
          "metadata": {
            "tags": []
          },
          "execution_count": 28
        }
      ]
    }
  ]
}